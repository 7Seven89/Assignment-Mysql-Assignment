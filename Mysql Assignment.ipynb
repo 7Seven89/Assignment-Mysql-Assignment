{
 "cells": [
  {
   "cell_type": "markdown",
   "id": "ac24d0ae-0bce-4bfe-89d9-c92c9355883a",
   "metadata": {},
   "source": [
    "**Q1. What is a database? Differentiate between SQL and NoSQL databases.**"
   ]
  },
  {
   "cell_type": "markdown",
   "id": "4a8f598d-6e96-4e0b-8346-d602d1b4133c",
   "metadata": {},
   "source": [
    "A1. A database is an organized collection of structured information, or data, typically stored electronically in a computer system. A database is managed by a Database Management System (DBMS), which provides the interface for users and applications to interact with the data. Databases are used to store, retrieve, and manage data efficiently, ensuring data integrity, security, and availability.\n",
    "\n",
    "**SQL Databases:**\n",
    "\n",
    "- SQL databases are relational databases that use Structured Query Language (SQL) for defining and manipulating the data.\n",
    "- They have a predefined schema that defines the structure of the data and the relationships between different data entities.\n",
    "- Examples of SQL databases include MySQL, PostgreSQL, Oracle, and SQL Server.\n",
    "- They are generally used for structured data with complex relationships and transactions.\n",
    "\n",
    "**NoSQL Databases:**\n",
    "\n",
    "- NoSQL databases are non-relational databases that do not use SQL as their primary query language.\n",
    "- They are schema-less or have a flexible schema, allowing for dynamic changes to the data structure.\n",
    "- NoSQL databases are designed for handling large volumes of unstructured or semi-structured data with high scalability and performance.\n",
    "- Examples of NoSQL databases include MongoDB, Cassandra, Redis, and Amazon DynamoDB.\n",
    "- They are often used for big data applications, real-time analytics, and distributed systems, offering high availability and horizontal scaling."
   ]
  },
  {
   "cell_type": "markdown",
   "id": "7ff3d48f-b356-48f6-9d03-e35999397bf8",
   "metadata": {},
   "source": [
    "**Q2. What is DDL? Explain why CREATE, DROP, ALTER, and TRUNCATE are used with an example.**"
   ]
  },
  {
   "cell_type": "markdown",
   "id": "4b30fafc-e924-4ae6-947e-af9fe7fe09f8",
   "metadata": {},
   "source": [
    "A2. DDL stands for Data Definition Language. It's a subset of SQL (Structured Query Language) used for defining and managing the structure of database objects like tables, indexes, views, and schemas."
   ]
  },
  {
   "cell_type": "markdown",
   "id": "13c221bc-088d-4a4d-a820-dca8409e53e9",
   "metadata": {},
   "source": [
    "**CREATE:** The CREATE command is used to create new database objects such as tables, views, indexes, or schemas."
   ]
  },
  {
   "cell_type": "code",
   "execution_count": null,
   "id": "a24252e6-3130-4445-b31b-f08d6ba32246",
   "metadata": {},
   "outputs": [],
   "source": [
    "CREATE TABLE Customers (\n",
    "    CustomerID INT PRIMARY KEY,\n",
    "    Name VARCHAR(50),\n",
    "    Email VARCHAR(100)\n",
    ");"
   ]
  },
  {
   "cell_type": "markdown",
   "id": "3bb417b4-2e69-4452-ac8d-c2666ba74b26",
   "metadata": {},
   "source": [
    "**DROP:** The DROP command is used to remove existing database objects like tables, views, or indexes from the database."
   ]
  },
  {
   "cell_type": "code",
   "execution_count": null,
   "id": "0a0c8689-cd73-4f44-b12f-baa7e0bb5259",
   "metadata": {},
   "outputs": [],
   "source": [
    "DROP TABLE Customers;"
   ]
  },
  {
   "cell_type": "markdown",
   "id": "63e4cfe3-2608-46e1-8c2e-01539582330a",
   "metadata": {},
   "source": [
    "**ALTER:** The ALTER command is used to modify the structure of existing database objects like adding, modifying, or dropping columns from a table."
   ]
  },
  {
   "cell_type": "code",
   "execution_count": null,
   "id": "80221ab7-132a-42e4-b51f-7d129b94a4ec",
   "metadata": {},
   "outputs": [],
   "source": [
    "ALTER TABLE Customers\n",
    "ADD Phone VARCHAR(20);"
   ]
  },
  {
   "cell_type": "markdown",
   "id": "06c472f4-fe0e-4055-9c35-71580f7f0258",
   "metadata": {},
   "source": [
    "**TRUNCATE:** The TRUNCATE command is used to delete all rows from a table without removing the table structure itself."
   ]
  },
  {
   "cell_type": "code",
   "execution_count": null,
   "id": "fdb81d7c-c8d2-46ea-ba90-fd3990c691d9",
   "metadata": {},
   "outputs": [],
   "source": [
    "TRUNCATE TABLE Customers;"
   ]
  },
  {
   "cell_type": "markdown",
   "id": "36f5e3fb-5836-4001-b9d1-6ded6abd9a78",
   "metadata": {},
   "source": [
    "**Q3. What is DML? Explain INSERT, UPDATE, and DELETE with an example.**"
   ]
  },
  {
   "cell_type": "markdown",
   "id": "844e6716-25d1-4ac2-b52c-2eb13d46398f",
   "metadata": {},
   "source": [
    "A3. DML stands for Data Manipulation Language. It's a subset of SQL (Structured Query Language) used for manipulating data within database objects like tables. DML commands include INSERT, UPDATE, DELETE, and SELECT (which is primarily used for data retrieval)."
   ]
  },
  {
   "cell_type": "markdown",
   "id": "9b623cdb-e438-4d33-ba00-50c1b3a7a49d",
   "metadata": {},
   "source": [
    "**INSERT:** The INSERT command is used to add new records (rows) into a table."
   ]
  },
  {
   "cell_type": "code",
   "execution_count": null,
   "id": "f54084a6-a584-47a5-a11e-ab354e2fb10c",
   "metadata": {},
   "outputs": [],
   "source": [
    "INSERT INTO Customers (CustomerID, Name, Email, Phone)\n",
    "VALUES (1, 'John Doe', 'johndoe@example.com', '+1234567890');"
   ]
  },
  {
   "cell_type": "markdown",
   "id": "3f92081d-1cd5-4e93-b8e3-8631279c0428",
   "metadata": {},
   "source": [
    "**UPDATE:** The UPDATE command is used to modify existing records (rows) in a table."
   ]
  },
  {
   "cell_type": "code",
   "execution_count": null,
   "id": "7b664625-c65c-49ad-b2e1-3ff58dac51c7",
   "metadata": {},
   "outputs": [],
   "source": [
    "UPDATE Customers\n",
    "SET Email = 'newemail@example.com'\n",
    "WHERE CustomerID = 1;"
   ]
  },
  {
   "cell_type": "markdown",
   "id": "7d1621d1-1b3e-4757-8b00-0fb505685296",
   "metadata": {},
   "source": [
    "**DELETE:** The DELETE command is used to remove records (rows) from a table."
   ]
  },
  {
   "cell_type": "code",
   "execution_count": null,
   "id": "39f63624-f5ca-4f2a-9fe3-63d729c4f639",
   "metadata": {},
   "outputs": [],
   "source": [
    "DELETE FROM Customers\n",
    "WHERE CustomerID = 1;"
   ]
  },
  {
   "cell_type": "markdown",
   "id": "2e087d78-a105-4312-82a5-0d614995f2e5",
   "metadata": {},
   "source": [
    "**Q4. What is DQL? Explain SELECT with an example.**"
   ]
  },
  {
   "cell_type": "markdown",
   "id": "9abee1bf-1303-474d-9905-02862c613f10",
   "metadata": {},
   "source": [
    "A4. DQL stands for Data Query Language. It's a subset of SQL (Structured Query Language) used for retrieving and querying data from a database. The primary command used in DQL is SELECT, which allows you to specify which data to retrieve from one or more database tables."
   ]
  },
  {
   "cell_type": "markdown",
   "id": "694713c5-a6da-4203-9099-5276e5d45b90",
   "metadata": {},
   "source": [
    "**SELECT Command:**\n",
    "The SELECT command is used to retrieve data from one or more tables based on specified criteria. It allows you to specify which columns to retrieve, filter rows based on conditions, sort data, and perform calculations or transformations on the retrieved data."
   ]
  },
  {
   "cell_type": "code",
   "execution_count": null,
   "id": "e2936c0d-0b19-488b-9d0f-3a48183472cf",
   "metadata": {},
   "outputs": [],
   "source": [
    "SELECT Name, Email\n",
    "FROM Customers;"
   ]
  },
  {
   "cell_type": "markdown",
   "id": "6de6ba9a-81f1-494e-91b3-cf0ff04f7965",
   "metadata": {},
   "source": [
    "**Q5. Explain Primary Key and Foreign Key.**"
   ]
  },
  {
   "cell_type": "markdown",
   "id": "a8ec899e-6452-4442-8b1f-8719868e23d2",
   "metadata": {},
   "source": [
    "A5.  \n",
    "**Primary Key (PK):**\n",
    "\n",
    "- A Primary Key is a column or set of columns that uniquely identifies each record (row) in a table.\n",
    "- It must have a unique value for each record and cannot contain NULL values.\n",
    "- A table can have only one Primary Key.\n",
    "- Primary Keys are used to enforce entity integrity and ensure data uniqueness within a table.\n",
    "\n",
    "\n",
    "**Foreign Key (FK):**\n",
    "\n",
    "- A Foreign Key is a column or set of columns in a table that establishes a relationship with the Primary Key in another table.\n",
    "- It creates referential integrity between related tables, ensuring that values in the Foreign Key column(s) match values in the Primary Key column(s) of the referenced table.\n",
    "- Foreign Keys are used to enforce data integrity and maintain consistency across related tables."
   ]
  },
  {
   "cell_type": "markdown",
   "id": "72ee4427-a347-4c2a-a67b-f0ff22aac81a",
   "metadata": {},
   "source": [
    "**Q6. Write a python code to connect MySQL to python. Explain the cursor() and execute() method.**"
   ]
  },
  {
   "cell_type": "code",
   "execution_count": null,
   "id": "f7d35cb3-db09-40e9-971d-9afc0b10bd20",
   "metadata": {},
   "outputs": [],
   "source": [
    "# A6.\n",
    "mydb = mysql.connector.connect(\n",
    "  host=\"localhost\",\n",
    "  user=\"your_username\",\n",
    "  password=\"your_password\",\n",
    "  database=\"your_database\"\n",
    ")\n",
    "\n",
    "mycursor = mydb.cursor()"
   ]
  },
  {
   "cell_type": "markdown",
   "id": "f4a67698-8477-46ef-9fc5-930f9fbabc3a",
   "metadata": {},
   "source": [
    "**cursor() Method:**\n",
    "\n",
    "- The cursor() method creates a cursor object, which is used to execute SQL queries and fetch results.\n",
    "- It's a way to interact with the MySQL database within your Python code."
   ]
  },
  {
   "cell_type": "markdown",
   "id": "8bbe796e-1541-4e11-ac1b-48eb007f7a93",
   "metadata": {},
   "source": [
    "**execute() Method:**\n",
    "\n",
    "- The execute() method is used to execute SQL queries through the cursor object.\n",
    "- You pass the SQL query as a string to the execute() method, and it sends the query to the MySQL database for execution.\n",
    "- You can also use parameterized queries with execute() to prevent SQL injection attacks, as shown in Example 2 above."
   ]
  },
  {
   "cell_type": "markdown",
   "id": "1953e2cd-390d-487f-9a19-01d8ed6ff282",
   "metadata": {},
   "source": [
    "**Q7. Give the order of execution of SQL clauses in an SQL query.**"
   ]
  },
  {
   "cell_type": "markdown",
   "id": "58e87ea2-3e80-400d-923f-a0be4af7dec2",
   "metadata": {},
   "source": [
    "A7. In SQL, the order of execution of clauses in an SQL query generally follows a structured sequence. Here's the typical order of execution for SQL clauses in a SELECT statement:\n",
    "\n",
    "- **FROM:** The FROM clause specifies the tables from which the data will be retrieved or manipulated. It is the first clause evaluated in the query.\n",
    "\n",
    "- **WHERE:** The WHERE clause filters rows based on specified conditions. It is applied after the FROM clause to select only the rows that meet the specified criteria.\n",
    "\n",
    "- **GROUP BY:** The GROUP BY clause groups rows that have the same values into summary rows, typically used with aggregate functions like SUM, COUNT, AVG, etc.\n",
    "\n",
    "- **HAVING:** The HAVING clause filters grouped rows based on specified conditions, similar to the WHERE clause but applied to groups defined by the GROUP BY clause.\n",
    "\n",
    "- **SELECT:** The SELECT clause specifies which columns or expressions to include in the query result set. It follows the FROM, WHERE, GROUP BY, and HAVING clauses.\n",
    "\n",
    "- **ORDER BY:** The ORDER BY clause sorts the rows in the result set based on specified columns or expressions. It is typically the last clause in the query before LIMIT or OFFSET clauses.\n",
    "\n",
    "- **LIMIT/OFFSET:** The LIMIT and OFFSET clauses are used for pagination or limiting the number of rows returned by the query. They are applied after the entire result set is generated based on the preceding clauses."
   ]
  },
  {
   "cell_type": "code",
   "execution_count": null,
   "id": "be6a6e9b-8af2-45e3-88b8-be7cdd140104",
   "metadata": {},
   "outputs": [],
   "source": []
  }
 ],
 "metadata": {
  "kernelspec": {
   "display_name": "Python 3 (ipykernel)",
   "language": "python",
   "name": "python3"
  },
  "language_info": {
   "codemirror_mode": {
    "name": "ipython",
    "version": 3
   },
   "file_extension": ".py",
   "mimetype": "text/x-python",
   "name": "python",
   "nbconvert_exporter": "python",
   "pygments_lexer": "ipython3",
   "version": "3.12.2"
  }
 },
 "nbformat": 4,
 "nbformat_minor": 5
}
